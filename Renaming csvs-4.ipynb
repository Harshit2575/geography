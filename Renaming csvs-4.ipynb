{
 "cells": [
  {
   "cell_type": "code",
   "execution_count": 5,
   "metadata": {
    "collapsed": true
   },
   "outputs": [],
   "source": [
    "import os\n",
    "import pandas as pd"
   ]
  },
  {
   "cell_type": "code",
   "execution_count": 36,
   "metadata": {
    "collapsed": true
   },
   "outputs": [],
   "source": [
    "ret= os.listdir(\"/home/harshit/geography/mpr\")\n",
    "df = pd.read_csv(\"bse50.csv\")\n",
    "for i in ret:\n",
    "    secid = i.split('.')[0]\n",
    "    secid = int(secid)\n",
    "    for index, j in df.iterrows():\n",
    "        if (secid==j[\"Security Code\"]):\n",
    "            name = j[\"Security Name\"]\n",
    "            os.rename(\"/home/harshit/geography/mpr/\"+i,\"/home/harshit/geography/mpr/\"+name+\".csv\")\n",
    "    "
   ]
  },
  {
   "cell_type": "code",
   "execution_count": 40,
   "metadata": {
    "collapsed": true
   },
   "outputs": [
    {
     "name": "stdout",
     "output_type": "stream",
     "text": [
      "GODREJ CONSUMER PRODUCTS LTD..csv\n",
      "Avenue Supermarts Ltd.csv\n",
      "OIL AND NATURAL GAS CORPORATION LTD..csv\n",
      "BAJAJ FINSERV LTD..csv\n",
      "HCL TECHNOLOGIES LTD..csv\n",
      "Vedanta Limited.csv\n",
      "GAIL (INDIA) LTD..csv\n",
      "ITC LTD..csv\n",
      "RELIANCE INDUSTRIES LTD..csv\n",
      "BOSCH LTD..csv\n",
      "ASIAN PAINTS LTD..csv\n",
      "BRITANNIA INDUSTRIES LTD..csv\n",
      "LARSEN & TOUBRO LTD..csv\n",
      "SHREE CEMENT LTD..csv\n",
      "AXIS BANK LTD..csv\n",
      "NESTLE INDIA LTD..csv\n",
      "INDUSIND BANK LTD..csv\n",
      "Bajaj Finance Limited.csv\n",
      "HERO MOTOCORP LTD..csv\n",
      "PIDILITE INDUSTRIES LTD..csv\n",
      "HOUSING DEVELOPMENT FINANCE CORP.LTD..csv\n",
      "MARUTI SUZUKI INDIA LTD..csv\n",
      "NTPC LTD..csv\n",
      "HINDUSTAN ZINC LTD..csv\n",
      "BHARTI INFRATEL LTD..csv\n",
      "HDFC Life Insurance Company Ltd.csv\n",
      "SUN PHARMACEUTICAL INDUSTRIES LTD..csv\n",
      "TECH MAHINDRA LTD..csv\n",
      "COAL INDIA LTD..csv\n",
      "INFOSYS LTD..csv\n",
      "DABUR INDIA LTD..csv\n",
      "KOTAK MAHINDRA BANK LTD..csv\n",
      "ICICI BANK LTD..csv\n",
      "STATE BANK OF INDIA.csv\n",
      "INDIAN OIL CORPORATION LTD..csv\n",
      "TATA STEEL LTD..csv\n",
      "POWER GRID CORPORATION OF INDIA LTD..csv\n",
      "ULTRATECH CEMENT LTD..csv\n",
      "Titan Company Limited.csv\n",
      "HDFC Bank Ltd.csv\n",
      "JSW STEEL LTD..csv\n",
      "MAHINDRA & MAHINDRA LTD..csv\n",
      "ADANI PORTS AND SPECIAL ECONOMIC ZONE LTD..csv\n",
      "SBI Life Insurance Company Ltd.csv\n",
      "HINDUSTAN UNILEVER LTD..csv\n",
      "BHARTI AIRTEL LTD..csv\n",
      "TATA CONSULTANCY SERVICES LTD..csv\n",
      "WIPRO LTD..csv\n",
      "BHARAT PETROLEUM CORPORATION LTD..csv\n",
      "BAJAJ AUTO LTD..csv\n"
     ]
    }
   ],
   "source": [
    "ret= os.listdir(\"/home/harshit/geography/mpr\")\n",
    "for i in ret:\n",
    "    secid = i.split('mpr')[1]\n",
    "    print(secid)\n",
    "    os.rename(\"/home/harshit/geography/mpr/\"+i,\"/home/harshit/geography/mpr/\"+secid+\".csv\")"
   ]
  },
  {
   "cell_type": "code",
   "execution_count": 89,
   "metadata": {
    "collapsed": true
   },
   "outputs": [],
   "source": [
    "ret= os.listdir(\"/home/harshit/geography/mpr\")\n",
    "for i in ret:\n",
    "    dat = pd.read_csv(\"/home/harshit/geography/mpr/\"+i)\n",
    "    data2=dat[[\"Month\",\"Close Price\"]]\n",
    "    data2.to_csv(\"/home/harshit/geography/mpr/\"+i,index=False)"
   ]
  },
  {
   "cell_type": "code",
   "execution_count": null,
   "metadata": {
    "collapsed": true
   },
   "outputs": [],
   "source": []
  },
  {
   "cell_type": "code",
   "execution_count": null,
   "metadata": {
    "collapsed": true
   },
   "outputs": [],
   "source": []
  }
 ],
 "metadata": {
  "kernelspec": {
   "display_name": "Python 3",
   "language": "python",
   "name": "python3"
  },
  "language_info": {
   "codemirror_mode": {
    "name": "ipython",
    "version": 3
   },
   "file_extension": ".py",
   "mimetype": "text/x-python",
   "name": "python",
   "nbconvert_exporter": "python",
   "pygments_lexer": "ipython3",
   "version": "3.6.6"
  }
 },
 "nbformat": 4,
 "nbformat_minor": 2
}
