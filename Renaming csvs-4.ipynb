{
 "cells": [
  {
   "cell_type": "code",
   "execution_count": 5,
   "metadata": {
    "collapsed": true
   },
   "outputs": [],
   "source": [
    "import os\n",
    "import pandas as pd"
   ]
  },
  {
   "cell_type": "code",
   "execution_count": 36,
   "metadata": {
    "collapsed": true
   },
   "outputs": [],
   "source": [
    "#renaming returns csv files from security codes to security names\n",
    "ret= os.listdir(\"/home/harshit/geography/mpr\")\n",
    "df = pd.read_csv(\"bse50.csv\")\n",
    "for i in ret:\n",
    "    secid = i.split('.')[0]\n",
    "    secid = int(secid)\n",
    "    for index, j in df.iterrows():\n",
    "        if (secid==j[\"Security Code\"]):\n",
    "            name = j[\"Security Name\"]\n",
    "            os.rename(\"/home/harshit/geography/mpr/\"+i,\"/home/harshit/geography/mpr/\"+name+\".csv\")\n",
    "    "
   ]
  },
  {
   "cell_type": "code",
   "execution_count": 89,
   "metadata": {
    "collapsed": true
   },
   "outputs": [],
   "source": [
    "#taking out month and closing price of securities from entire data\n",
    "ret= os.listdir(\"/home/harshit/geography/mpr\")\n",
    "for i in ret:\n",
    "    dat = pd.read_csv(\"/home/harshit/geography/mpr/\"+i)\n",
    "    data2=dat[[\"Month\",\"Close Price\"]]\n",
    "    data2.to_csv(\"/home/harshit/geography/mpr/\"+i,index=False)"
   ]
  },
  {
   "cell_type": "code",
   "execution_count": null,
   "metadata": {
    "collapsed": true
   },
   "outputs": [],
   "source": []
  },
  {
   "cell_type": "code",
   "execution_count": null,
   "metadata": {
    "collapsed": true
   },
   "outputs": [],
   "source": []
  }
 ],
 "metadata": {
  "kernelspec": {
   "display_name": "Python 3",
   "language": "python",
   "name": "python3"
  },
  "language_info": {
   "codemirror_mode": {
    "name": "ipython",
    "version": 3
   },
   "file_extension": ".py",
   "mimetype": "text/x-python",
   "name": "python",
   "nbconvert_exporter": "python",
   "pygments_lexer": "ipython3",
   "version": "3.6.6"
  }
 },
 "nbformat": 4,
 "nbformat_minor": 2
}
