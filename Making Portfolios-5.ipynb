{
 "cells": [
  {
   "cell_type": "code",
   "execution_count": 1,
   "metadata": {
    "collapsed": true
   },
   "outputs": [],
   "source": [
    "import pandas as pd\n",
    "import os.path"
   ]
  },
  {
   "cell_type": "code",
   "execution_count": 2,
   "metadata": {
    "collapsed": true
   },
   "outputs": [],
   "source": [
    "data = pd.read_csv(\"/home/harshit/geography/bse50.csv\")\n",
    "data.sort_values(by=\"HQ\")\n",
    "hqstates = set(data[\"HQ\"])"
   ]
  },
  {
   "cell_type": "code",
   "execution_count": 3,
   "metadata": {
    "collapsed": true
   },
   "outputs": [],
   "source": [
    "for i in hqstates:\n",
    "    df=pd.DataFrame(columns=[\"Company\"])\n",
    "    for index, j in data.iterrows():\n",
    "        if(i==j[\"HQ\"]): \n",
    "            m= pd.DataFrame([[j[\"Security Name\"]]],columns=[\"Company\"])\n",
    "            df=df.append(m,ignore_index=True)\n",
    "    df.to_csv(\"/home/harshit/geography/hqportfolios/\"+i+\".csv\",index=False)"
   ]
  },
  {
   "cell_type": "code",
   "execution_count": 151,
   "metadata": {},
   "outputs": [
    {
     "name": "stdout",
     "output_type": "stream",
     "text": [
      "AXIS BANK LTD.\n",
      "TECH MAHINDRA LTD.\n",
      "BAJAJ AUTO LTD.\n",
      "GODREJ CONSUMER PRODUCTS LTD.\n",
      "HINDUSTAN UNILEVER LTD.\n",
      "DABUR INDIA LTD.\n",
      "OIL AND NATURAL GAS CORPORATION LTD.\n",
      "SBI Life Insurance Company Ltd\n",
      "HCL TECHNOLOGIES LTD.\n",
      "INFOSYS LTD.\n",
      "BAJAJ FINSERV LTD.\n",
      "HOUSING DEVELOPMENT FINANCE CORP.LTD.\n",
      "WIPRO LTD.\n",
      "ICICI BANK LTD.\n",
      "TECH MAHINDRA LTD.\n",
      "BHARAT PETROLEUM CORPORATION LTD.\n",
      "HDFC Life Insurance Company Ltd\n",
      "INDIAN OIL CORPORATION LTD.\n",
      "LARSEN & TOUBRO LTD.\n",
      "KOTAK MAHINDRA BANK LTD.\n",
      "STATE BANK OF INDIA\n",
      "HOUSING DEVELOPMENT FINANCE CORP.LTD.\n",
      "HDFC Bank Ltd\n",
      "TATA CONSULTANCY SERVICES LTD.\n",
      "SHREE CEMENT LTD.\n",
      "COAL INDIA LTD.\n",
      "ITC LTD.\n",
      "Titan Company Limited\n",
      "BOSCH LTD.\n",
      "WIPRO LTD.\n",
      "INFOSYS LTD.\n",
      "ADANI PORTS AND SPECIAL ECONOMIC ZONE LTD.\n",
      "SUN PHARMACEUTICAL INDUSTRIES LTD.\n",
      "AXIS BANK LTD.\n",
      "ICICI BANK LTD.\n",
      "TATA STEEL LTD.\n",
      "PIDILITE INDUSTRIES LTD.\n",
      "Vedanta Limited\n",
      "JSW STEEL LTD.\n",
      "GODREJ CONSUMER PRODUCTS LTD.\n",
      "BHARAT PETROLEUM CORPORATION LTD.\n",
      "HDFC Life Insurance Company Ltd\n",
      "ASIAN PAINTS LTD.\n",
      "KOTAK MAHINDRA BANK LTD.\n",
      "STATE BANK OF INDIA\n",
      "HOUSING DEVELOPMENT FINANCE CORP.LTD.\n",
      "HINDUSTAN UNILEVER LTD.\n",
      "RELIANCE INDUSTRIES LTD.\n",
      "HINDUSTAN ZINC LTD.\n",
      "BHARTI INFRATEL LTD.\n",
      "HCL TECHNOLOGIES LTD.\n",
      "MARUTI SUZUKI INDIA LTD.\n",
      "ITC LTD.\n",
      "PIDILITE INDUSTRIES LTD.\n",
      "HDFC Life Insurance Company Ltd\n",
      "Avenue Supermarts Ltd\n",
      "INDUSIND BANK LTD.\n",
      "ULTRATECH CEMENT LTD.\n",
      "BAJAJ FINSERV LTD.\n",
      "INDIAN OIL CORPORATION LTD.\n",
      "ASIAN PAINTS LTD.\n",
      "Bajaj Finance Limited\n",
      "LARSEN & TOUBRO LTD.\n",
      "KOTAK MAHINDRA BANK LTD.\n",
      "HDFC Bank Ltd\n",
      "RELIANCE INDUSTRIES LTD.\n",
      "HINDUSTAN ZINC LTD.\n",
      "OIL AND NATURAL GAS CORPORATION LTD.\n",
      "MARUTI SUZUKI INDIA LTD.\n",
      "ITC LTD.\n",
      "BHARTI INFRATEL LTD.\n",
      "HERO MOTOCORP LTD.\n",
      "POWER GRID CORPORATION OF INDIA LTD.\n",
      "MARUTI SUZUKI INDIA LTD.\n",
      "HINDUSTAN UNILEVER LTD.\n",
      "TATA STEEL LTD.\n",
      "JSW STEEL LTD.\n",
      "COAL INDIA LTD.\n",
      "Vedanta Limited\n",
      "JSW STEEL LTD.\n",
      "Avenue Supermarts Ltd\n",
      "BRITANNIA INDUSTRIES LTD.\n",
      "Titan Company Limited\n",
      "BHARAT PETROLEUM CORPORATION LTD.\n",
      "NTPC LTD.\n",
      "GODREJ CONSUMER PRODUCTS LTD.\n",
      "MAHINDRA & MAHINDRA LTD.\n",
      "INDUSIND BANK LTD.\n",
      "ULTRATECH CEMENT LTD.\n",
      "TATA CONSULTANCY SERVICES LTD.\n",
      "RELIANCE INDUSTRIES LTD.\n",
      "POWER GRID CORPORATION OF INDIA LTD.\n",
      "COAL INDIA LTD.\n",
      "BOSCH LTD.\n",
      "INFOSYS LTD.\n",
      "ADANI PORTS AND SPECIAL ECONOMIC ZONE LTD.\n",
      "SUN PHARMACEUTICAL INDUSTRIES LTD.\n",
      "AXIS BANK LTD.\n",
      "BHARTI AIRTEL LTD.\n",
      "BRITANNIA INDUSTRIES LTD.\n",
      "ADANI PORTS AND SPECIAL ECONOMIC ZONE LTD.\n",
      "TATA STEEL LTD.\n",
      "INDIAN OIL CORPORATION LTD.\n",
      "POWER GRID CORPORATION OF INDIA LTD.\n",
      "SBI Life Insurance Company Ltd\n",
      "HDFC Bank Ltd\n",
      "BHARTI INFRATEL LTD.\n",
      "BHARTI AIRTEL LTD.\n",
      "BOSCH LTD.\n",
      "ICICI BANK LTD.\n",
      "Vedanta Limited\n",
      "BAJAJ AUTO LTD.\n",
      "INDUSIND BANK LTD.\n",
      "ULTRATECH CEMENT LTD.\n",
      "BAJAJ FINSERV LTD.\n",
      "Bajaj Finance Limited\n",
      "STATE BANK OF INDIA\n",
      "HERO MOTOCORP LTD.\n",
      "BHARTI AIRTEL LTD.\n",
      "SUN PHARMACEUTICAL INDUSTRIES LTD.\n",
      "Titan Company Limited\n",
      "WIPRO LTD.\n",
      "MAHINDRA & MAHINDRA LTD.\n",
      "ASIAN PAINTS LTD.\n",
      "LARSEN & TOUBRO LTD.\n",
      "NTPC LTD.\n",
      "BRITANNIA INDUSTRIES LTD.\n",
      "PIDILITE INDUSTRIES LTD.\n",
      "TECH MAHINDRA LTD.\n",
      "MAHINDRA & MAHINDRA LTD.\n",
      "Avenue Supermarts Ltd\n",
      "TATA CONSULTANCY SERVICES LTD.\n",
      "OIL AND NATURAL GAS CORPORATION LTD.\n",
      "DABUR INDIA LTD.\n",
      "NTPC LTD.\n",
      "HCL TECHNOLOGIES LTD.\n",
      "BAJAJ AUTO LTD.\n",
      "HINDUSTAN ZINC LTD.\n",
      "HERO MOTOCORP LTD.\n",
      "DABUR INDIA LTD.\n",
      "SBI Life Insurance Company Ltd\n",
      "Bajaj Finance Limited\n"
     ]
    }
   ],
   "source": [
    "#Making a dataframe to list ER1-3 companies of all states\n",
    "path =\"/home/harshit/geography/hqportfolios/\"\n",
    "comp_path = \"/home/harshit/geography/score_state/\"\n",
    "states = pd.read_csv(\"/home/harshit/geography/district.csv\")\n",
    "states = list(set(states[\"STATE\"]))\n",
    "states.sort()\n",
    "for i in states:\n",
    "    comp_names = pd.Series() \n",
    "############################# Removing HQ State from state count csv of a firm#################################   \n",
    "    for j in hqstates:\n",
    "        df = pd.read_csv(path+j+\".csv\")\n",
    "        for k in df[\"Company\"]:\n",
    "            if(os.path.isfile(comp_path+k+\".pdf.csv\")==True):\n",
    "                rem = pd.read_csv(comp_path+k+\".pdf.csv\")\n",
    "                rem= rem[rem.State!=j]\n",
    "                rem=rem[rem[\"count\"]!=0]\n",
    "                for l in rem.State[0:3]:\n",
    "                    if(l==i):print(k);comp_names=comp_names.append(pd.Series(k),ignore_index=True)\n",
    "    comp_names.to_csv(\"/home/harshit/geography/erportfolios/\"+i+\".csv\")"
   ]
  },
  {
   "cell_type": "code",
   "execution_count": 150,
   "metadata": {},
   "outputs": [
    {
     "data": {
      "text/html": [
       "<div>\n",
       "<style scoped>\n",
       "    .dataframe tbody tr th:only-of-type {\n",
       "        vertical-align: middle;\n",
       "    }\n",
       "\n",
       "    .dataframe tbody tr th {\n",
       "        vertical-align: top;\n",
       "    }\n",
       "\n",
       "    .dataframe thead tr th {\n",
       "        text-align: left;\n",
       "    }\n",
       "</style>\n",
       "<table border=\"1\" class=\"dataframe\">\n",
       "  <thead>\n",
       "    <tr>\n",
       "      <th></th>\n",
       "      <th>ANDAMAN AND NICOBAR ISLANDS</th>\n",
       "      <th>ANDHRA PRADESH</th>\n",
       "      <th>ARUNACHAL PRADESH</th>\n",
       "      <th>ASSAM</th>\n",
       "      <th>BIHAR</th>\n",
       "      <th>CHANDIGARH</th>\n",
       "      <th>CHHATTISGARH</th>\n",
       "      <th>DADRA AND NAGAR HAVELI</th>\n",
       "      <th>DAMAN AND DIU</th>\n",
       "      <th>DELHI</th>\n",
       "      <th>...</th>\n",
       "      <th>PUDUCHERRY</th>\n",
       "      <th>PUNJAB</th>\n",
       "      <th>RAJASTHAN</th>\n",
       "      <th>SIKKIM</th>\n",
       "      <th>TAMIL NADU</th>\n",
       "      <th>TELANGANA</th>\n",
       "      <th>TRIPURA</th>\n",
       "      <th>UTTAR PRADESH</th>\n",
       "      <th>UTTARAKHAND</th>\n",
       "      <th>WEST BENGAL</th>\n",
       "    </tr>\n",
       "  </thead>\n",
       "  <tbody>\n",
       "  </tbody>\n",
       "</table>\n",
       "<p>0 rows × 37 columns</p>\n",
       "</div>"
      ],
      "text/plain": [
       "Empty DataFrame\n",
       "Columns: [(ANDAMAN AND NICOBAR ISLANDS,), (ANDHRA PRADESH,), (ARUNACHAL PRADESH,), (ASSAM,), (BIHAR,), (CHANDIGARH,), (CHHATTISGARH,), (DADRA AND NAGAR HAVELI,), (DAMAN AND DIU,), (DELHI,), (GOA,), (GUJARAT,), (HARYANA,), (HIMACHAL PRADESH,), (JAMMU & KASHMIR,), (JAMMU AND KASHMIR,), (JHARKHAND,), (KARNATAKA,), (KERALA,), (LAKSHADWEEP,), (MADHYA PRADESH,), (MAHARASHTRA,), (MANIPUR,), (MEGHALAYA,), (MIZORAM,), (NAGALAND,), (ODISHA,), (PUDUCHERRY,), (PUNJAB,), (RAJASTHAN,), (SIKKIM,), (TAMIL NADU,), (TELANGANA,), (TRIPURA,), (UTTAR PRADESH,), (UTTARAKHAND,), (WEST BENGAL,)]\n",
       "Index: []\n",
       "\n",
       "[0 rows x 37 columns]"
      ]
     },
     "execution_count": 150,
     "metadata": {},
     "output_type": "execute_result"
    }
   ],
   "source": [
    "states"
   ]
  },
  {
   "cell_type": "code",
   "execution_count": 127,
   "metadata": {},
   "outputs": [],
   "source": [
    "for l in rem.State[0:3]:\n",
    "    comp_names=comp_names.append(pd.Series(l),ignore_index=True)\n",
    "    "
   ]
  },
  {
   "cell_type": "code",
   "execution_count": 128,
   "metadata": {},
   "outputs": [
    {
     "data": {
      "text/plain": [
       "0    KARNATAKA\n",
       "1       SIKKIM\n",
       "2        DELHI\n",
       "3    KARNATAKA\n",
       "4       SIKKIM\n",
       "5        DELHI\n",
       "dtype: object"
      ]
     },
     "execution_count": 128,
     "metadata": {},
     "output_type": "execute_result"
    }
   ],
   "source": [
    "comp_names"
   ]
  }
 ],
 "metadata": {
  "kernelspec": {
   "display_name": "Python 3",
   "language": "python",
   "name": "python3"
  },
  "language_info": {
   "codemirror_mode": {
    "name": "ipython",
    "version": 3
   },
   "file_extension": ".py",
   "mimetype": "text/x-python",
   "name": "python",
   "nbconvert_exporter": "python",
   "pygments_lexer": "ipython3",
   "version": "3.6.6"
  }
 },
 "nbformat": 4,
 "nbformat_minor": 2
}
