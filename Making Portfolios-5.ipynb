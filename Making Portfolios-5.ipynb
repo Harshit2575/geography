{
 "cells": [
  {
   "cell_type": "code",
   "execution_count": 5,
   "metadata": {
    "collapsed": true
   },
   "outputs": [],
   "source": [
    "import pandas as pd\n",
    "import os.path"
   ]
  },
  {
   "cell_type": "code",
   "execution_count": 9,
   "metadata": {
    "collapsed": true
   },
   "outputs": [],
   "source": [
    "data = pd.read_csv(\"/home/harshit/geography/bse50.csv\")\n",
    "data.sort_values(by=\"HQ\")\n",
    "hqstates = set(data[\"HQ\"])\n",
    "#for corporate offices->replace HQ by COFF\n",
    "# data.sort_values(by=\"COFF\")\n",
    "# hqstates = set(data[\"COFF\"])"
   ]
  },
  {
   "cell_type": "code",
   "execution_count": 10,
   "metadata": {
    "collapsed": true
   },
   "outputs": [],
   "source": [
    "for i in hqstates:\n",
    "    df=pd.DataFrame(columns=[\"Company\"])\n",
    "    for index, j in data.iterrows():\n",
    "        if(i==j[\"HQ\"]): \n",
    "            m= pd.DataFrame([[j[\"Security Name\"]]],columns=[\"Company\"])\n",
    "            df=df.append(m,ignore_index=True)\n",
    "    df.to_csv(\"/home/harshit/geography/hqportfolios/\"+i+\".csv\",index=False)"
   ]
  },
  {
   "cell_type": "code",
   "execution_count": 11,
   "metadata": {},
   "outputs": [
    {
     "name": "stderr",
     "output_type": "stream",
     "text": [
      "/home/harshit/anaconda3/lib/python3.6/site-packages/pandas/core/frame.py:6211: FutureWarning: Sorting because non-concatenation axis is not aligned. A future version\n",
      "of pandas will change to not sort by default.\n",
      "\n",
      "To accept the future behavior, pass 'sort=False'.\n",
      "\n",
      "To retain the current behavior and silence the warning, pass 'sort=True'.\n",
      "\n",
      "  sort=sort)\n"
     ]
    }
   ],
   "source": [
    "#Making a dataframe to list ER1-3 companies of all states\n",
    "path =\"/home/harshit/geography/hqportfolios/\"\n",
    "comp_path = [\"/home/harshit/geography/score_state18/\",\"/home/harshit/geography/score_state17/\",\n",
    "             \"/home/harshit/geography/score_state16/\",\"/home/harshit/geography/score_state15/\",\n",
    "             \"/home/harshit/geography/score_state14/\",]\n",
    "states = pd.read_csv(\"/home/harshit/geography/district.csv\")\n",
    "states = list(set(states[\"STATE\"]))\n",
    "states.sort()\n",
    "ercomp = pd.DataFrame(columns=states) # A dataframe with names of states as columns\n",
    "\n",
    "#Removing HQ State from state count csv of a firm and making list of er firms for a state#   \n",
    "count=19\n",
    "for i in comp_path:\n",
    "    count-=1;\n",
    "    for j in hqstates:\n",
    "        df = pd.read_csv(path+j+\".csv\")\n",
    "        for k in df[\"Company\"]:\n",
    "            if(os.path.isfile(i+k+\".pdf.csv\")==True):\n",
    "                rem = pd.read_csv(i+k+\".pdf.csv\")\n",
    "                rem= rem[rem.State!=j]\n",
    "                rem=rem[rem[\"count\"]!=0]\n",
    "                for l in rem.State[0:3]: # Making a list of companies having given state as ER(1-3)\n",
    "                    m= pd.DataFrame([k+str(count)],columns=[l])                        \n",
    "                    ercomp=ercomp.append(m,ignore_index=True)\n",
    "#Removing NA's from dataframe of er companies\n",
    "df = pd.DataFrame()\n",
    "for i in ercomp:\n",
    "    comp=ercomp[i]\n",
    "    comp=comp[pd.notna(comp)==1]\n",
    "    comp=pd.DataFrame(list(comp),columns=[i])\n",
    "    df=df.merge(comp,how='outer',left_index=True,right_index=True)\n",
    "df=df.dropna(axis=\"columns\",how='all')\n",
    "df.to_csv(\"/home/harshit/geography/ercompanies.csv\",index=False)"
   ]
  },
  {
   "cell_type": "code",
   "execution_count": null,
   "metadata": {
    "collapsed": true
   },
   "outputs": [],
   "source": []
  }
 ],
 "metadata": {
  "kernelspec": {
   "display_name": "Python 3",
   "language": "python",
   "name": "python3"
  },
  "language_info": {
   "codemirror_mode": {
    "name": "ipython",
    "version": 3
   },
   "file_extension": ".py",
   "mimetype": "text/x-python",
   "name": "python",
   "nbconvert_exporter": "python",
   "pygments_lexer": "ipython3",
   "version": "3.6.6"
  }
 },
 "nbformat": 4,
 "nbformat_minor": 2
}
