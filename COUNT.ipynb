{
 "cells": [
  {
   "cell_type": "code",
   "execution_count": 31,
   "metadata": {
    "collapsed": true
   },
   "outputs": [],
   "source": [
    "import pandas as pd\n",
    "import PyPDF2\n",
    "from nltk.tokenize import sent_tokenize\n",
    "from nltk.corpus import stopwords\n",
    "import os"
   ]
  },
  {
   "cell_type": "code",
   "execution_count": 32,
   "metadata": {
    "collapsed": true
   },
   "outputs": [],
   "source": [
    "lis = os.listdir(\"/home/harshit/geography/reports2018incog/\")\n",
    "districts=pd.read_csv(\"/home/harshit/geography/district.csv\")\n",
    "states = districts[\"State\"]\n",
    "states = set(states)"
   ]
  },
  {
   "cell_type": "code",
   "execution_count": 35,
   "metadata": {},
   "outputs": [],
   "source": [
    "for i in lis:\n",
    "    pdfFileObj = open(\"/home/harshit/geography/reports2018incog/\"+i,'rb')    #Opening annual report pdf\n",
    "    pdfReader = PyPDF2.PdfFileReader(pdfFileObj)                             #reading pdf   \n",
    "    num_pages = pdfReader.numPages                                           # counting no. of pages  \n",
    "    count = 0                                                            \n",
    "    text = \"\"\n",
    "    while count < num_pages:                                                #extracting text from pdf  \n",
    "        pageObj = pdfReader.getPage(count)\n",
    "        count +=1\n",
    "        text += pageObj.extractText()\n",
    "    tokens = sent_tokenize(text)\n",
    "    keywords = [lines for lines in tokens]\n",
    "    \n",
    "    score_state = pd.DataFrame(columns=['State','count'])\n",
    "    for p in states:\n",
    "        count=0\n",
    "        for j in keywords:\n",
    "            j=j.upper()\n",
    "            if p in j:\n",
    "                count+=1\n",
    "        df = pd.DataFrame({\"State\":[p],\"count\":[count]}) \n",
    "        score_state=score_state.append(df,ignore_index=True)\n",
    "    score_state=score_state.sort_values(\"count\",ascending=0)\n",
    "    score_state.to_csv(\"/home/harshit/geography/score_state/\"+i+\".csv\")"
   ]
  },
  {
   "cell_type": "code",
   "execution_count": null,
   "metadata": {},
   "outputs": [],
   "source": []
  }
 ],
 "metadata": {
  "kernelspec": {
   "display_name": "Python 3",
   "language": "python",
   "name": "python3"
  }
 },
 "nbformat": 4,
 "nbformat_minor": 2
}
