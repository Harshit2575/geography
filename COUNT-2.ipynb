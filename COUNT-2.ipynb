{
 "cells": [
  {
   "cell_type": "code",
   "execution_count": 2,
   "metadata": {
    "collapsed": true
   },
   "outputs": [],
   "source": [
    "import pandas as pd\n",
    "import PyPDF2\n",
    "from nltk.tokenize import sent_tokenize\n",
    "import os"
   ]
  },
  {
   "cell_type": "code",
   "execution_count": 3,
   "metadata": {
    "collapsed": true
   },
   "outputs": [],
   "source": [
    "lis = os.listdir(\"/home/harshit/geography/reports2018incog/\")\n",
    "districts=pd.read_csv(\"/home/harshit/geography/district.csv\")\n",
    "states = districts[\"State\"]\n",
    "states = set(states)"
   ]
  },
  {
   "cell_type": "code",
   "execution_count": 5,
   "metadata": {},
   "outputs": [
    {
     "name": "stdout",
     "output_type": "stream",
     "text": [
      "INDIAN OIL CORPORATION LTD..pdf\n",
      "DABUR INDIA LTD..pdf\n",
      "SUN PHARMACEUTICAL INDUSTRIES LTD..pdf\n",
      "Bajaj Finance Limited.pdf\n",
      "ICICI BANK LTD..pdf\n",
      "BAJAJ AUTO LTD..pdf\n",
      "Avenue Supermarts Ltd.pdf\n",
      "JSW STEEL LTD..pdf\n",
      "ADANI PORTS AND SPECIAL ECONOMIC ZONE LTD..pdf\n",
      "ULTRATECH CEMENT LTD..pdf\n",
      "ITC LTD..pdf\n",
      "BRITANNIA INDUSTRIES LTD..pdf\n",
      "BAJAJ FINSERV LTD..pdf\n",
      "TATA CONSULTANCY SERVICES LTD..pdf\n",
      "POWER GRID CORPORATION OF INDIA LTD..pdf\n",
      "KOTAK MAHINDRA BANK LTD..pdf\n",
      "Titan Company Limited.pdf\n",
      "SHREE CEMENT LTD..pdf\n",
      "LARSEN & TOUBRO LTD..pdf\n",
      "INFOSYS LTD..pdf\n",
      "HOUSING DEVELOPMENT FINANCE CORP.LTD..pdf\n",
      "HERO MOTOCORP LTD..pdf\n",
      "GODREJ CONSUMER PRODUCTS LTD..pdf\n",
      "Vedanta Limited.pdf\n",
      "NTPC LTD..pdf\n",
      "TECH MAHINDRA LTD..pdf\n",
      "SBI Life Insurance Company Ltd.pdf\n",
      "GAIL (INDIA) LTD..pdf\n",
      "STATE BANK OF INDIA.pdf\n",
      "BOSCH LTD..pdf\n",
      "BHARTI INFRATEL LTD..pdf\n",
      "HDFC Bank Ltd.pdf\n",
      "HINDUSTAN UNILEVER LTD..pdf\n",
      "MARUTI SUZUKI INDIA LTD..pdf\n",
      "HINDUSTAN ZINC LTD..pdf\n",
      "TATA STEEL LTD..pdf\n",
      "OIL AND NATURAL GAS CORPORATION LTD..pdf\n",
      "INDUSIND BANK LTD..pdf\n",
      "PIDILITE INDUSTRIES LTD..pdf\n",
      "AXIS BANK LTD..pdf\n",
      "BHARAT PETROLEUM CORPORATION LTD..pdf\n",
      "BHARTI AIRTEL LTD..pdf\n",
      "MAHINDRA & MAHINDRA LTD..pdf\n",
      "RELIANCE INDUSTRIES LTD..pdf\n",
      "HCL TECHNOLOGIES LTD..pdf\n",
      "ASIAN PAINTS LTD..pdf\n",
      "HDFC Life Insurance Company Ltd.pdf\n",
      "COAL INDIA LTD..pdf\n",
      "WIPRO LTD..pdf\n"
     ]
    }
   ],
   "source": [
    "for i in lis:\n",
    "    pdfFileObj = open(\"/home/harshit/geography/reports2018incog/\"+i,'rb')    #Opening annual report pdf\n",
    "    pdfReader = PyPDF2.PdfFileReader(pdfFileObj)                             #reading pdf   \n",
    "    num_pages = pdfReader.numPages                                           # counting no. of pages  \n",
    "    count = 0                                                            \n",
    "    text = \"\"\n",
    "    while count < num_pages:                                                #extracting text from pdf  \n",
    "        pageObj = pdfReader.getPage(count)\n",
    "        count +=1\n",
    "        text += pageObj.extractText()\n",
    "    tokens = sent_tokenize(text)\n",
    "    keywords = [lines for lines in tokens]\n",
    "    \n",
    "    score_state = pd.DataFrame(columns=['State','count'])\n",
    "    for p in states:\n",
    "        count=0\n",
    "        for j in keywords:\n",
    "            j=j.upper()\n",
    "            if p in j:\n",
    "                count+=1\n",
    "        df = pd.DataFrame({\"State\":[p],\"count\":[count]}) \n",
    "        score_state=score_state.append(df,ignore_index=True)\n",
    "    score_state=score_state.sort_values(\"count\",ascending=0)\n",
    "    score_state.to_csv(\"/home/harshit/geography/score_state/\"+i+\".csv\",index=False)\n",
    "    print(i)"
   ]
  },
  {
   "cell_type": "code",
   "execution_count": null,
   "metadata": {
    "collapsed": true
   },
   "outputs": [],
   "source": []
  }
 ],
 "metadata": {
  "kernelspec": {
   "display_name": "Python 3",
   "language": "python",
   "name": "python3"
  },
  "language_info": {
   "codemirror_mode": {
    "name": "ipython",
    "version": 3
   },
   "file_extension": ".py",
   "mimetype": "text/x-python",
   "name": "python",
   "nbconvert_exporter": "python",
   "pygments_lexer": "ipython3",
   "version": "3.6.6"
  }
 },
 "nbformat": 4,
 "nbformat_minor": 2
}
