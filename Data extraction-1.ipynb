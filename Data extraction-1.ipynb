{
 "cells": [
  {
   "cell_type": "code",
   "execution_count": 9,
   "metadata": {},
   "outputs": [],
   "source": [
    "import requests\n",
    "import pandas as pd\n",
    "import os\n",
    "from pathlib import Path\n",
    "import time"
   ]
  },
  {
   "cell_type": "code",
   "execution_count": 10,
   "metadata": {},
   "outputs": [
    {
     "name": "stdout",
     "output_type": "stream",
     "text": [
      "BHARTI INFRATEL LTD. https://www.bseindia.com/bseplus/AnnualReport/534816/5348160314.pdf\n",
      "SHREE CEMENT LTD. https://www.bseindia.com/bseplus/AnnualReport/500387/5003870314.pdf\n",
      "HERO MOTOCORP LTD. https://www.bseindia.com/bseplus/AnnualReport/500182/5001820314.pdf\n",
      "BOSCH LTD. https://www.bseindia.com/bseplus/AnnualReport/500530/5005300314.pdf\n",
      "SBI Life Insurance Company Ltd https://www.bseindia.com/bseplus/AnnualReport/540719/5407190314.pdf\n",
      "ADANI PORTS AND SPECIAL ECONOMIC ZONE LTD. https://www.bseindia.com/bseplus/AnnualReport/532921/5329210314.pdf\n",
      "GODREJ CONSUMER PRODUCTS LTD. https://www.bseindia.com/bseplus/AnnualReport/532424/5324240314.pdf\n",
      "TECH MAHINDRA LTD. https://www.bseindia.com/bseplus/AnnualReport/532755/5327550314.pdf\n",
      "BHARAT PETROLEUM CORPORATION LTD. https://www.bseindia.com/bseplus/AnnualReport/500547/5005470314.pdf\n",
      "GAIL (INDIA) LTD. https://www.bseindia.com/bseplus/AnnualReport/532155/5321550314.pdf\n",
      "BAJAJ AUTO LTD. https://www.bseindia.com/bseplus/AnnualReport/532977/5329770314.pdf\n",
      "HDFC Life Insurance Company Ltd https://www.bseindia.com/bseplus/AnnualReport/540777/5407770314.pdf\n",
      "BRITANNIA INDUSTRIES LTD. https://www.bseindia.com/bseplus/AnnualReport/500825/5008250314.pdf\n",
      "MAHINDRA & MAHINDRA LTD. https://www.bseindia.com/bseplus/AnnualReport/500520/5005200314.pdf\n",
      "Titan Company Limited https://www.bseindia.com/bseplus/AnnualReport/500114/5001140314.pdf\n",
      "Avenue Supermarts Ltd https://www.bseindia.com/bseplus/AnnualReport/540376/5403760314.pdf\n",
      "INDUSIND BANK LTD. https://www.bseindia.com/bseplus/AnnualReport/532187/5321870314.pdf\n",
      "ULTRATECH CEMENT LTD. https://www.bseindia.com/bseplus/AnnualReport/532538/5325380314.pdf\n",
      "BAJAJ FINSERV LTD. https://www.bseindia.com/bseplus/AnnualReport/532978/5329780314.pdf\n",
      "POWER GRID CORPORATION OF INDIA LTD. https://www.bseindia.com/bseplus/AnnualReport/532898/5328980314.pdf\n",
      "SUN PHARMACEUTICAL INDUSTRIES LTD. https://www.bseindia.com/bseplus/AnnualReport/524715/5247150314.pdf\n",
      "NESTLE INDIA LTD. https://www.bseindia.com/bseplus/AnnualReport/500790/5007900314.pdf\n",
      "BHARTI AIRTEL LTD. https://www.bseindia.com/bseplus/AnnualReport/532454/5324540314.pdf\n",
      "ASIAN PAINTS LTD. https://www.bseindia.com/bseplus/AnnualReport/500820/5008200314.pdf\n",
      "HCL TECHNOLOGIES LTD. https://www.bseindia.com/bseplus/AnnualReport/532281/5322810314.pdf\n",
      "Bajaj Finance Limited https://www.bseindia.com/bseplus/AnnualReport/500034/5000340314.pdf\n",
      "ICICI BANK LTD. https://www.bseindia.com/bseplus/AnnualReport/532174/5321740314.pdf\n",
      "ITC LTD. https://www.bseindia.com/bseplus/AnnualReport/500875/5008750314.pdf\n",
      "HDFC Bank Ltd https://www.bseindia.com/bseplus/AnnualReport/500180/5001800314.pdf\n",
      "TATA CONSULTANCY SERVICES LTD. https://www.bseindia.com/bseplus/AnnualReport/532540/5325400314.pdf\n"
     ]
    }
   ],
   "source": [
    "left = pd.DataFrame(columns=['Name','Link'])\n",
    "lis = pd.read_csv(\"/home/harshit/geography/bse50.csv\") # list of all equities on BSE\n",
    "for i in lis[\"Security Code\"]:\n",
    "    link = \"https://www.bseindia.com/bseplus/AnnualReport/\"+str(i)+\"/\"+str(i)+\"0314.pdf\"\n",
    "    r = requests.get(link) # getting and saving annual report\n",
    "    row=lis.loc[lis['Security Code'] ==i]\n",
    "    name = row.iloc[0][\"Security Name\"]\n",
    "    if(float(r.headers['Content-length'])<10240):\n",
    "        print(name,link)\n",
    "        df = pd.DataFrame({\"Name\":[name],\"Link\":[link]})\n",
    "        left=left.append(df,ignore_index=True)\n",
    "    with open(\"reports2014/\"+name+\".pdf\",'wb') as f:\n",
    "        for chunk in r.iter_content(chunk_size=1024): \n",
    "            f.write(chunk)\n"
   ]
  },
  {
   "cell_type": "code",
   "execution_count": 13,
   "metadata": {
    "collapsed": true
   },
   "outputs": [
    {
     "name": "stdout",
     "output_type": "stream",
     "text": [
      "SHREE CEMENT LTD. https://www.bseindia.com/bseplus/AnnualReport/500387/5003870314.pdf\n",
      "HERO MOTOCORP LTD. https://www.bseindia.com/bseplus/AnnualReport/500182/5001820314.pdf\n",
      "BOSCH LTD. https://www.bseindia.com/bseplus/AnnualReport/500530/5005300314.pdf\n",
      "SBI Life Insurance Company Ltd https://www.bseindia.com/bseplus/AnnualReport/540719/5407190314.pdf\n",
      "ADANI PORTS AND SPECIAL ECONOMIC ZONE LTD. https://www.bseindia.com/bseplus/AnnualReport/532921/5329210314.pdf\n",
      "GODREJ CONSUMER PRODUCTS LTD. https://www.bseindia.com/bseplus/AnnualReport/532424/5324240314.pdf\n",
      "TECH MAHINDRA LTD. https://www.bseindia.com/bseplus/AnnualReport/532755/5327550314.pdf\n",
      "BHARAT PETROLEUM CORPORATION LTD. https://www.bseindia.com/bseplus/AnnualReport/500547/5005470314.pdf\n",
      "HDFC Life Insurance Company Ltd https://www.bseindia.com/bseplus/AnnualReport/540777/5407770314.pdf\n",
      "BRITANNIA INDUSTRIES LTD. https://www.bseindia.com/bseplus/AnnualReport/500825/5008250314.pdf\n",
      "MAHINDRA & MAHINDRA LTD. https://www.bseindia.com/bseplus/AnnualReport/500520/5005200314.pdf\n",
      "Titan Company Limited https://www.bseindia.com/bseplus/AnnualReport/500114/5001140314.pdf\n",
      "Avenue Supermarts Ltd https://www.bseindia.com/bseplus/AnnualReport/540376/5403760314.pdf\n",
      "ULTRATECH CEMENT LTD. https://www.bseindia.com/bseplus/AnnualReport/532538/5325380314.pdf\n",
      "POWER GRID CORPORATION OF INDIA LTD. https://www.bseindia.com/bseplus/AnnualReport/532898/5328980314.pdf\n",
      "NESTLE INDIA LTD. https://www.bseindia.com/bseplus/AnnualReport/500790/5007900314.pdf\n",
      "BHARTI AIRTEL LTD. https://www.bseindia.com/bseplus/AnnualReport/532454/5324540314.pdf\n",
      "ASIAN PAINTS LTD. https://www.bseindia.com/bseplus/AnnualReport/500820/5008200314.pdf\n",
      "HCL TECHNOLOGIES LTD. https://www.bseindia.com/bseplus/AnnualReport/532281/5322810314.pdf\n",
      "Bajaj Finance Limited https://www.bseindia.com/bseplus/AnnualReport/500034/5000340314.pdf\n",
      "ITC LTD. https://www.bseindia.com/bseplus/AnnualReport/500875/5008750314.pdf\n",
      "TATA CONSULTANCY SERVICES LTD. https://www.bseindia.com/bseplus/AnnualReport/532540/5325400314.pdf\n"
     ]
    }
   ],
   "source": [
    "left2 = pd.DataFrame(columns=['Name','Link'])\n",
    "for i in left[\"Link\"]:\n",
    "    row=left.loc[left['Link'] ==i]\n",
    "    name= row.iloc[0][\"Name\"]\n",
    "   # link = \"https://www.bseindia.com/bseplus/AnnualReport/\"+str(code)+\"/\"+str(code)+\"0318.pdf\"\n",
    "    r = requests.get(i)\n",
    "    if(float(r.headers['Content-length'])<10240):\n",
    "        print(name,i)\n",
    "        df = pd.DataFrame({\"Name\":[name],\"Link\":[i]})\n",
    "        left2=left2.append(df,ignore_index=True)\n",
    "    with open(\"reports2014/\"+name+\".pdf\",'wb') as f:\n",
    "        for chunk in r.iter_content(chunk_size=1024): \n",
    "            f.write(chunk)\n",
    "    time.sleep(2)"
   ]
  },
  {
   "cell_type": "code",
   "execution_count": 15,
   "metadata": {},
   "outputs": [
    {
     "name": "stdout",
     "output_type": "stream",
     "text": [
      "SHREE CEMENT LTD. https://www.bseindia.com/bseplus/AnnualReport/500387/5003870314.pdf\n",
      "BOSCH LTD. https://www.bseindia.com/bseplus/AnnualReport/500530/5005300314.pdf\n",
      "SBI Life Insurance Company Ltd https://www.bseindia.com/bseplus/AnnualReport/540719/5407190314.pdf\n",
      "GODREJ CONSUMER PRODUCTS LTD. https://www.bseindia.com/bseplus/AnnualReport/532424/5324240314.pdf\n",
      "TECH MAHINDRA LTD. https://www.bseindia.com/bseplus/AnnualReport/532755/5327550314.pdf\n",
      "BHARAT PETROLEUM CORPORATION LTD. https://www.bseindia.com/bseplus/AnnualReport/500547/5005470314.pdf\n",
      "HDFC Life Insurance Company Ltd https://www.bseindia.com/bseplus/AnnualReport/540777/5407770314.pdf\n",
      "BRITANNIA INDUSTRIES LTD. https://www.bseindia.com/bseplus/AnnualReport/500825/5008250314.pdf\n",
      "Avenue Supermarts Ltd https://www.bseindia.com/bseplus/AnnualReport/540376/5403760314.pdf\n",
      "ULTRATECH CEMENT LTD. https://www.bseindia.com/bseplus/AnnualReport/532538/5325380314.pdf\n",
      "NESTLE INDIA LTD. https://www.bseindia.com/bseplus/AnnualReport/500790/5007900314.pdf\n",
      "ASIAN PAINTS LTD. https://www.bseindia.com/bseplus/AnnualReport/500820/5008200314.pdf\n",
      "HCL TECHNOLOGIES LTD. https://www.bseindia.com/bseplus/AnnualReport/532281/5322810314.pdf\n",
      "Bajaj Finance Limited https://www.bseindia.com/bseplus/AnnualReport/500034/5000340314.pdf\n",
      "ITC LTD. https://www.bseindia.com/bseplus/AnnualReport/500875/5008750314.pdf\n",
      "TATA CONSULTANCY SERVICES LTD. https://www.bseindia.com/bseplus/AnnualReport/532540/5325400314.pdf\n"
     ]
    }
   ],
   "source": [
    "left3 = pd.DataFrame(columns=['Name','Link'])\n",
    "for i in left2[\"Link\"]:\n",
    "    row=left2.loc[left2['Link'] ==i]\n",
    "    name= row.iloc[0][\"Name\"]\n",
    "   # link = \"https://www.bseindia.com/bseplus/AnnualReport/\"+str(code)+\"/\"+str(code)+\"0318.pdf\"\n",
    "    r = requests.get(i)\n",
    "    if(float(r.headers['Content-length'])<10240):\n",
    "        print(name,i)\n",
    "        df = pd.DataFrame({\"Name\":[name],\"Link\":[i]})\n",
    "        left3=left3.append(df,ignore_index=True)\n",
    "    with open(\"reports2014/\"+name+\".pdf\",'wb') as f:\n",
    "        for chunk in r.iter_content(chunk_size=1024): \n",
    "            f.write(chunk)\n",
    "    time.sleep(2)\n",
    "\n",
    "    "
   ]
  },
  {
   "cell_type": "code",
   "execution_count": 16,
   "metadata": {
    "scrolled": true
   },
   "outputs": [
    {
     "data": {
      "text/plain": [
       "16"
      ]
     },
     "execution_count": 16,
     "metadata": {},
     "output_type": "execute_result"
    }
   ],
   "source": [
    "len(left3)"
   ]
  },
  {
   "cell_type": "code",
   "execution_count": 18,
   "metadata": {},
   "outputs": [
    {
     "name": "stdout",
     "output_type": "stream",
     "text": [
      "SHREE CEMENT LTD. https://www.bseindia.com/bseplus/AnnualReport/500387/5003870314.pdf\n",
      "BOSCH LTD. https://www.bseindia.com/bseplus/AnnualReport/500530/5005300314.pdf\n",
      "SBI Life Insurance Company Ltd https://www.bseindia.com/bseplus/AnnualReport/540719/5407190314.pdf\n",
      "HDFC Life Insurance Company Ltd https://www.bseindia.com/bseplus/AnnualReport/540777/5407770314.pdf\n",
      "Avenue Supermarts Ltd https://www.bseindia.com/bseplus/AnnualReport/540376/5403760314.pdf\n",
      "NESTLE INDIA LTD. https://www.bseindia.com/bseplus/AnnualReport/500790/5007900314.pdf\n",
      "HCL TECHNOLOGIES LTD. https://www.bseindia.com/bseplus/AnnualReport/532281/5322810314.pdf\n",
      "ITC LTD. https://www.bseindia.com/bseplus/AnnualReport/500875/5008750314.pdf\n",
      "TATA CONSULTANCY SERVICES LTD. https://www.bseindia.com/bseplus/AnnualReport/532540/5325400314.pdf\n"
     ]
    }
   ],
   "source": [
    "left4 = pd.DataFrame(columns=['Name','Link'])\n",
    "for i in left3[\"Link\"]:\n",
    "    row=left3.loc[left3['Link'] ==i]\n",
    "    name= row.iloc[0][\"Name\"]\n",
    "   # link = \"https://www.bseindia.com/bseplus/AnnualReport/\"+str(code)+\"/\"+str(code)+\"0318.pdf\"\n",
    "    r = requests.get(i)\n",
    "    if(float(r.headers['Content-length'])<10240):\n",
    "        print(name,i)\n",
    "        df = pd.DataFrame({\"Name\":[name],\"Link\":[i]})\n",
    "        left4=left4.append(df,ignore_index=True)\n",
    "    with open(\"reports2014/\"+name+\".pdf\",'wb') as f:\n",
    "        for chunk in r.iter_content(chunk_size=1024): \n",
    "            f.write(chunk)\n",
    "    time.sleep(2)"
   ]
  },
  {
   "cell_type": "code",
   "execution_count": 19,
   "metadata": {},
   "outputs": [
    {
     "data": {
      "text/plain": [
       "9"
      ]
     },
     "execution_count": 19,
     "metadata": {},
     "output_type": "execute_result"
    }
   ],
   "source": [
    "len(left4)"
   ]
  },
  {
   "cell_type": "code",
   "execution_count": null,
   "metadata": {
    "collapsed": true
   },
   "outputs": [],
   "source": []
  }
 ],
 "metadata": {
  "kernelspec": {
   "display_name": "Python 3",
   "language": "python",
   "name": "python3"
  },
  "language_info": {
   "codemirror_mode": {
    "name": "ipython",
    "version": 3
   },
   "file_extension": ".py",
   "mimetype": "text/x-python",
   "name": "python",
   "nbconvert_exporter": "python",
   "pygments_lexer": "ipython3",
   "version": "3.6.6"
  }
 },
 "nbformat": 4,
 "nbformat_minor": 2
}
