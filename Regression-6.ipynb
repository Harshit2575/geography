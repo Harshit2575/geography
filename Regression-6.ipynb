{
 "cells": [
  {
   "cell_type": "code",
   "execution_count": 13,
   "metadata": {
    "collapsed": true
   },
   "outputs": [],
   "source": [
    "import pandas as pd\n",
    "import numpy as np\n",
    "import os\n",
    "from datetime import datetime"
   ]
  },
  {
   "cell_type": "code",
   "execution_count": 9,
   "metadata": {},
   "outputs": [],
   "source": [
    "state = pd.read_csv(\"/home/harshit/geography/district.csv\")\n",
    "state = list(set(state[\"STATE\"]))\n",
    "state.sort()\n",
    "stateer = pd.read_csv(\"/home/harshit/geography/ercompanies.csv\")\n",
    "stateer=stateer.replace(\"\\+ACY-\",\"&\",regex=True)\n",
    "hq_path = \"/home/harshit/geography/hqportfolios/\"\n",
    "\n",
    "for h in state:\n",
    "    date = pd.DataFrame(columns=['Month'])\n",
    "    month = pd.DataFrame(columns=['Month'])\n",
    "    if(os.path.exists(hq_path+h+\".csv\")==True):\n",
    "        hqread = pd.read_csv(hq_path+h+\".csv\")\n",
    "        date = pd.DataFrame(columns=['Month'])\n",
    "        for j in hqread[\"Company\"]:\n",
    "            j=j.upper()\n",
    "            df = pd.read_csv(\"/home/harshit/geography/mret/\"+j+\".csv\")\n",
    "            df.rename(columns={\"Return\":j+\"HQ\"},inplace=True)\n",
    "            date = pd.merge(date,df,left_on=\"Month\", right_on=\"Month\",how=\"outer\",sort=False)\n",
    "        date[\"meanHQ\"] = round(np.mean(date,axis=1),2)\n",
    "        date = date[:-3]\n",
    "    \n",
    "    if(h in stateer):\n",
    "        comp=stateer[h][pd.notna(stateer[h])]\n",
    "        month = pd.DataFrame(date[\"Month\"])\n",
    "        for i in comp:\n",
    "            i=i.upper()\n",
    "            ret = pd.read_csv(\"/home/harshit/geography/mret/\"+i[0:-2]+\".csv\")\n",
    "            ret.rename(columns={\"Return\":i+\"ER\"},inplace=True)\n",
    "\n",
    "            if \"14\" in i:\n",
    "                if(\"February-2014\" in ret.Month.values):\n",
    "                    ret=ret[ret.loc[ret[\"Month\"]==\"February-2014\"].index.values[0]:ret.loc[ret[\"Month\"]==\"December-2014\"].index.values[0]+1]\n",
    "                    month=pd.merge(month,ret,on=\"Month\",how=\"outer\")\n",
    "                else:\n",
    "                    ret=ret[:ret.loc[ret[\"Month\"]==\"December-2014\"].index.values[0]+1]\n",
    "                    month=pd.merge(month,ret,on=\"Month\",how=\"outer\")\n",
    "\n",
    "\n",
    "            if \"15\" in i:\n",
    "                if(\"January-2015\" in ret.Month.values):\n",
    "                    ret=ret[ret.loc[ret[\"Month\"]==\"January-2015\"].index.values[0]:ret.loc[ret[\"Month\"]==\"December-2015\"].index.values[0]+1]\n",
    "                    month=pd.merge(month,ret,on=\"Month\",how=\"outer\")\n",
    "                else:\n",
    "                    ret=ret[:ret.loc[ret[\"Month\"]==\"December-2015\"].index.values[0]+1]\n",
    "                    month=pd.merge(month,ret,on=\"Month\",how=\"outer\")\n",
    "\n",
    "            if \"16\" in i:\n",
    "                if(\"January-2016\" in ret.Month.values):\n",
    "                    ret=ret[ret.loc[ret[\"Month\"]==\"January-2016\"].index.values[0]:ret.loc[ret[\"Month\"]==\"December-2016\"].index.values[0]+1]\n",
    "                    month=pd.merge(month,ret,on=\"Month\",how=\"outer\")\n",
    "                else:\n",
    "                    ret=ret[:ret.loc[ret[\"Month\"]==\"December-2016\"].index.values[0]+1]\n",
    "                    month=pd.merge(month,ret,on=\"Month\",how=\"outer\")\n",
    "\n",
    "\n",
    "            if \"17\" in i:\n",
    "                if(\"January-2017\" in ret.Month.values):\n",
    "                    ret=ret[ret.loc[ret[\"Month\"]==\"January-2017\"].index.values[0]:ret.loc[ret[\"Month\"]==\"December-2017\"].index.values[0]+1]\n",
    "                    month=pd.merge(month,ret,on=\"Month\",how=\"outer\")\n",
    "                else:\n",
    "                    ret=ret[:ret.loc[ret[\"Month\"]==\"December-2017\"].index.values[0]+1]\n",
    "                    month=pd.merge(month,ret,on=\"Month\",how=\"outer\")\n",
    "\n",
    "\n",
    "            if \"18\" in i:\n",
    "                if(\"January-2018\" in ret.Month.values):\n",
    "                    ret=ret[ret.loc[ret[\"Month\"]==\"January-2018\"].index.values[0]:ret.loc[ret[\"Month\"]==\"December-2018\"].index.values[0]+1]\n",
    "                    month=pd.merge(month,ret,on=\"Month\",how=\"outer\")\n",
    "                else:\n",
    "                    ret=ret[:ret.loc[ret[\"Month\"]==\"December-2018\"].index.values[0]+1]\n",
    "                    month=pd.merge(month,ret,on=\"Month\",how=\"outer\")        \n",
    "\n",
    "        \n",
    "        month[\"meanER\"] = round(np.mean(month,axis=1),2)\n",
    "        \n",
    "        \n",
    "    date = pd.merge(date,month,left_on=\"Month\",right_on=\"Month\",how=\"outer\",sort=False)  \n",
    "    date = date[:-3]\n",
    "    if(len(date!=0)):\n",
    "        date.to_csv(\"/home/harshit/geography/meanret/\"+h+\".csv\",index=False)"
   ]
  },
  {
   "cell_type": "code",
   "execution_count": 11,
   "metadata": {},
   "outputs": [],
   "source": [
    "date=date[\"Month\"]"
   ]
  },
  {
   "cell_type": "code",
   "execution_count": 20,
   "metadata": {},
   "outputs": [],
   "source": [
    "eth =  pd.to_datetime(date, format='%B-%Y')"
   ]
  },
  {
   "cell_type": "code",
   "execution_count": 27,
   "metadata": {},
   "outputs": [
    {
     "data": {
      "text/plain": [
       "pandas.core.series.Series"
      ]
     },
     "execution_count": 27,
     "metadata": {},
     "output_type": "execute_result"
    }
   ],
   "source": [
    "type(eth)"
   ]
  },
  {
   "cell_type": "code",
   "execution_count": null,
   "metadata": {
    "collapsed": true
   },
   "outputs": [],
   "source": []
  }
 ],
 "metadata": {
  "kernelspec": {
   "display_name": "Python 3",
   "language": "python",
   "name": "python3"
  },
  "language_info": {
   "codemirror_mode": {
    "name": "ipython",
    "version": 3
   },
   "file_extension": ".py",
   "mimetype": "text/x-python",
   "name": "python",
   "nbconvert_exporter": "python",
   "pygments_lexer": "ipython3",
   "version": "3.6.6"
  }
 },
 "nbformat": 4,
 "nbformat_minor": 2
}
