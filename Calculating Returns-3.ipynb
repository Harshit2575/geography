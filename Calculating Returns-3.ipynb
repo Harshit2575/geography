{
 "cells": [
  {
   "cell_type": "code",
   "execution_count": 2,
   "metadata": {
    "collapsed": true
   },
   "outputs": [],
   "source": [
    "import pandas as pd\n",
    "import numpy as np\n",
    "from pathlib import Path\n",
    "from os import listdir"
   ]
  },
  {
   "cell_type": "code",
   "execution_count": 9,
   "metadata": {},
   "outputs": [],
   "source": [
    "data_path = \"/home/harshit/geography/mpr/\" #Daily closing prices data\n",
    "return_path = \"/home/harshit/geography/mret/\"\n",
    "lis = listdir(data_path)  #A list of all data files in a year\n",
    "for i in (lis):\n",
    "    df2 = pd.DataFrame(columns=[\"Month\",\"Return\"])\n",
    "    data = pd.read_csv(data_path+i)\n",
    "    company = i.split('.')[0]\n",
    "    for j in range(len(data)):\n",
    "            month = data.iloc[j][\"Month\"]\n",
    "            previous = data.iloc[j-1][\"Close Price\"]\n",
    "            new = data.iloc[j][\"Close Price\"]\n",
    "            ret = round(((previous-new)/previous)*100,2)\n",
    "            df = pd.DataFrame([[month,ret]],columns=[\"Month\",\"Return\"])\n",
    "            df2 = df2.append(df,ignore_index=True)   # A DF having return data for whole year\n",
    "    df2 = df2.iloc[1:]\n",
    "    df2.to_csv(return_path+company+\".csv\",index=False)"
   ]
  }
 ],
 "metadata": {
  "kernelspec": {
   "display_name": "Python 3",
   "language": "python",
   "name": "python3"
  },
  "language_info": {
   "codemirror_mode": {
    "name": "ipython",
    "version": 3
   },
   "file_extension": ".py",
   "mimetype": "text/x-python",
   "name": "python",
   "nbconvert_exporter": "python",
   "pygments_lexer": "ipython3",
   "version": "3.6.6"
  }
 },
 "nbformat": 4,
 "nbformat_minor": 2
}
