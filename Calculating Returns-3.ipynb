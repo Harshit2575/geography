{
 "cells": [
  {
   "cell_type": "code",
   "execution_count": 2,
   "metadata": {
    "collapsed": true
   },
   "outputs": [],
   "source": [
    "import pandas as pd\n",
    "import numpy as np\n",
    "from pathlib import Path\n",
    "from os import listdir"
   ]
  },
  {
   "cell_type": "code",
   "execution_count": 3,
   "metadata": {},
   "outputs": [
    {
     "name": "stdout",
     "output_type": "stream",
     "text": [
      "NTPC LTD..csv\n",
      "HERO MOTOCORP LTD..csv\n",
      "BAJAJ AUTO LTD..csv\n",
      "KOTAK MAHINDRA BANK LTD..csv\n",
      "NESTLE INDIA LTD..csv\n",
      "INDUSIND BANK LTD..csv\n",
      "GAIL (INDIA) LTD..csv\n",
      "SHREE CEMENT LTD..csv\n",
      "AXIS BANK LTD..csv\n",
      "HOUSING DEVELOPMENT FINANCE CORP.LTD..csv\n",
      "OIL AND NATURAL GAS CORPORATION LTD..csv\n",
      "POWER GRID CORPORATION OF INDIA LTD..csv\n",
      "AVENUE SUPERMARTS LTD.csv\n",
      "TECH MAHINDRA LTD..csv\n",
      "MAHINDRA & MAHINDRA LTD..csv\n",
      "GODREJ CONSUMER PRODUCTS LTD..csv\n",
      "WIPRO LTD..csv\n",
      "BHARTI INFRATEL LTD..csv\n",
      "HINDUSTAN ZINC LTD..csv\n",
      "STATE BANK OF INDIA.csv\n",
      "ITC LTD..csv\n",
      "TITAN COMPANY LIMITED.csv\n",
      "JSW STEEL LTD..csv\n",
      "PIDILITE INDUSTRIES LTD..csv\n",
      "TATA STEEL LTD..csv\n",
      "SUN PHARMACEUTICAL INDUSTRIES LTD..csv\n",
      "BOSCH LTD..csv\n",
      "BHARTI AIRTEL LTD..csv\n",
      "HDFC BANK LTD.csv\n",
      "ICICI BANK LTD..csv\n",
      "INFOSYS LTD..csv\n",
      "TATA CONSULTANCY SERVICES LTD..csv\n",
      "COAL INDIA LTD..csv\n",
      "ASIAN PAINTS LTD..csv\n",
      "HDFC LIFE INSURANCE COMPANY LTD.csv\n",
      "MARUTI SUZUKI INDIA LTD..csv\n",
      "HINDUSTAN UNILEVER LTD..csv\n",
      "BRITANNIA INDUSTRIES LTD..csv\n",
      "BAJAJ FINSERV LTD..csv\n",
      "VEDANTA LIMITED.csv\n",
      "SBI LIFE INSURANCE COMPANY LTD.csv\n",
      "ULTRATECH CEMENT LTD..csv\n",
      "HCL TECHNOLOGIES LTD..csv\n",
      "LARSEN & TOUBRO LTD..csv\n",
      "RELIANCE INDUSTRIES LTD..csv\n",
      "DABUR INDIA LTD..csv\n",
      "BHARAT PETROLEUM CORPORATION LTD..csv\n",
      "BAJAJ FINANCE LIMITED.csv\n",
      "INDIAN OIL CORPORATION LTD..csv\n",
      "ADANI PORTS AND SPECIAL ECONOMIC ZONE LTD..csv\n"
     ]
    }
   ],
   "source": [
    "data_path = \"/home/harshit/geography/mpr/\" #monthly closing prices data\n",
    "return_path = \"/home/harshit/geography/mret/\"\n",
    "lis = listdir(data_path)         #A list of files with monthly closing price\n",
    "for i in (lis):\n",
    "    df2 = pd.DataFrame(columns=[\"Month\",\"Return\"])\n",
    "    data = pd.read_csv(data_path+i)\n",
    "    for j in range(len(data)):\n",
    "            month = data.iloc[j][\"Month\"]\n",
    "            previous = data.iloc[j-1][\"Close Price\"]\n",
    "            new = data.iloc[j][\"Close Price\"]\n",
    "            ret = round(((new-previous)/previous)*100,2)\n",
    "            df = pd.DataFrame([[month,ret]],columns=[\"Month\",\"Return\"])\n",
    "            df2 = df2.append(df,ignore_index=True)   # A DF having return data for whole year\n",
    "    df2 = df2.iloc[1:]\n",
    "    df2.to_csv(return_path+i,index=False)\n",
    "    print(i)"
   ]
  },
  {
   "cell_type": "code",
   "execution_count": 4,
   "metadata": {},
   "outputs": [
    {
     "data": {
      "text/plain": [
       "50"
      ]
     },
     "execution_count": 4,
     "metadata": {},
     "output_type": "execute_result"
    }
   ],
   "source": [
    "len(lis)"
   ]
  },
  {
   "cell_type": "code",
   "execution_count": null,
   "metadata": {
    "collapsed": true
   },
   "outputs": [],
   "source": []
  }
 ],
 "metadata": {
  "kernelspec": {
   "display_name": "Python 3",
   "language": "python",
   "name": "python3"
  },
  "language_info": {
   "codemirror_mode": {
    "name": "ipython",
    "version": 3
   },
   "file_extension": ".py",
   "mimetype": "text/x-python",
   "name": "python",
   "nbconvert_exporter": "python",
   "pygments_lexer": "ipython3",
   "version": "3.6.6"
  }
 },
 "nbformat": 4,
 "nbformat_minor": 2
}
